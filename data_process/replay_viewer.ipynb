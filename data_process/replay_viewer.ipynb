{
  "cells": [
    {
      "cell_type": "markdown",
      "metadata": {
        "id": "DMPyH08RBiJL"
      },
      "source": [
        "# .lzma file viewer"
      ]
    },
    {
      "cell_type": "code",
      "execution_count": 1,
      "metadata": {
        "colab": {
          "base_uri": "https://localhost:8080/"
        },
        "id": "niEaPbrEjHlx",
        "outputId": "f99608d1-a57c-4e93-dfea-83478fe975a8"
      },
      "outputs": [
        {
          "name": "stdout",
          "output_type": "stream",
          "text": [
            "data keys: ['map', 'packets']\n",
            "map shape: (160,160)\n",
            "num of packets: 1024\n",
            "packet keys: dict_keys(['border', 'size', 'resource', 'player', 'npc', 'market', 'pos', 'wilderness'])\n"
          ]
        }
      ],
      "source": [
        "import lzma\n",
        "import json\n",
        "import os\n",
        "import numpy as np\n",
        "\n",
        "lzma_path = \"../dataset/replays/replay-0-0.lzma\"\n",
        "fp = open(lzma_path, \"rb\")\n",
        "data = fp.read()\n",
        "data = lzma.decompress(data, format=lzma.FORMAT_ALONE)\n",
        "data = json.loads(data.decode('utf-8'))\n",
        "print(\"data keys:\", list(data.keys()))\n",
        "\n",
        "map = data[\"map\"]\n",
        "packets = data[\"packets\"]\n",
        "packets.pop(0)  # first packet is null\n",
        "print(\"map shape: (%d,%d)\"%(len(map), len(map[0])))\n",
        "print(\"num of packets:\", len(packets))\n",
        "print(\"packet keys:\", packets[0].keys())"
      ]
    },
    {
      "cell_type": "code",
      "execution_count": 2,
      "metadata": {},
      "outputs": [],
      "source": [
        "packet = packets[0]\n",
        "border = packet[\"border\"]\n",
        "size = packet[\"size\"]\n",
        "resource = packet[\"resource\"]\n",
        "player = packet[\"player\"]\n",
        "npc = packet[\"npc\"]\n",
        "market = packet[\"market\"]\n",
        "pos = packet[\"pos\"]\n",
        "wilderness = packet[\"wilderness\"]"
      ]
    },
    {
      "cell_type": "code",
      "execution_count": 3,
      "metadata": {},
      "outputs": [
        {
          "name": "stdout",
          "output_type": "stream",
          "text": [
            "---------------------------------------- player keys ----------------------------------------\n",
            "dict_keys(['1', '2', '3', '4', '5', '6', '7', '8', '9', '10', '11', '12', '13', '14', '15', '16', '17', '18', '19', '20', '21', '22', '23', '24', '25', '26', '27', '28', '29', '30', '31', '32', '33', '34', '35', '36', '37', '38', '39', '40', '41', '42', '43', '44', '45', '46', '47', '48', '49', '50', '51', '52', '53', '54', '55', '56', '57', '58', '59', '60', '61', '62', '63', '64', '65', '66', '67', '68', '69', '70', '71', '72', '73', '74', '75', '76', '77', '78', '79', '80', '81', '82', '83', '84', '85', '86', '87', '88', '89', '90', '91', '92', '93', '94', '95', '96', '97', '98', '99', '100', '101', '102', '103', '104', '105', '106', '107', '108', '109', '110', '111', '112', '113', '114', '115', '116', '117', '118', '119', '120', '121', '122', '123', '124', '125', '126', '127', '128'])\n",
            "---------------------------------------- pid '1' info ----------------------------------------\n",
            "status: {'freeze': 0}\n",
            "history: {'damage': 0, 'timeAlive': 0, 'actions': {}}\n",
            "inventory: {'items': [{'item': 'Gold', 'level': 0, 'capacity': 0, 'quantity': 1, 'melee_attack': 0, 'range_attack': 0, 'mage_attack': 0, 'melee_defense': 0, 'range_defense': 0, 'mage_defense': 0, 'health_restore': 0, 'resource_restore': 0, 'price': 0}], 'equipment': {'item_level': 0, 'melee_attack': 0, 'range_attack': 0, 'mage_attack': 0, 'melee_defense': 0, 'range_defense': 0, 'mage_defense': 0}}\n",
            "alive: True\n",
            "entID: 1\n",
            "annID: 0\n",
            "base: {'r': 58, 'c': 144, 'name': 'reckless-4_1', 'level': 3, 'item_level': 0, 'color': '#00ffff', 'population': 0, 'self': 1}\n",
            "resource: {'health': {'val': 100, 'max': 100}, 'food': {'val': 100, 'max': 100}, 'water': {'val': 100, 'max': 100}}\n",
            "skills: {'water': {'exp': 0, 'level': 1}, 'food': {'exp': 0, 'level': 1}, 'mage': {'exp': 0, 'level': 1}, 'fishing': {'exp': 0, 'level': 1}, 'carving': {'exp': 0, 'level': 1}, 'melee': {'exp': 0, 'level': 1}, 'alchemy': {'exp': 0, 'level': 1}, 'herbalism': {'exp': 0, 'level': 1}, 'range': {'exp': 0, 'level': 1}, 'prospecting': {'exp': 0, 'level': 1}, 'level': 1}\n",
            "metrics: {'PlayerDefeats': 0, 'TimeAlive': 0, 'Gold': 1, 'DamageTaken': 0}\n"
          ]
        }
      ],
      "source": [
        "print(\"-\"*40+f\" player keys \"+\"-\"*40)\n",
        "print(player.keys())\n",
        "pid = \"1\"\n",
        "print(\"-\"*40+f\" pid '{pid}' info \"+\"-\"*40)\n",
        "single_player = player[pid]\n",
        "for key in single_player:\n",
        "    print(f\"{key}: {single_player[key]}\")"
      ]
    },
    {
      "cell_type": "code",
      "execution_count": 4,
      "metadata": {},
      "outputs": [
        {
          "name": "stdout",
          "output_type": "stream",
          "text": [
            "---------------------------------------- npc keys ----------------------------------------\n",
            "dict_keys(['-1', '-2', '-3', '-4', '-5', '-6', '-7', '-8', '-9', '-10', '-11', '-12', '-13', '-14', '-15'])\n",
            "---------------------------------------- npc_id '-1' info ----------------------------------------\n",
            "status: {'freeze': 0}\n",
            "history: {'damage': 0, 'timeAlive': 0, 'actions': {}}\n",
            "inventory: {'items': [{'item': 'Gold', 'level': 0, 'capacity': 0, 'quantity': 7, 'melee_attack': 0, 'range_attack': 0, 'mage_attack': 0, 'melee_defense': 0, 'range_defense': 0, 'mage_defense': 0, 'health_restore': 0, 'resource_restore': 0, 'price': 0}], 'equipment': {'item_level': 0, 'melee_attack': 0, 'range_attack': 0, 'mage_attack': 0, 'melee_defense': 0, 'range_defense': 0, 'mage_defense': 0}}\n",
            "alive: True\n",
            "base: {'r': 59, 'c': 86, 'name': 'Neutral-1', 'level': 3, 'item_level': 0, 'color': '#ff8000', 'population': -2, 'self': 1}\n",
            "skills: {'mage': {'exp': 0, 'level': 1}, 'range': {'exp': 0, 'level': 1}, 'melee': {'exp': 320, 'level': 7}, 'level': 7}\n",
            "resource: {'health': {'val': 100, 'max': 100}}\n"
          ]
        }
      ],
      "source": [
        "print(\"-\"*40+f\" npc keys \"+\"-\"*40)\n",
        "print(npc.keys())\n",
        "npc_id = \"-1\"\n",
        "print(\"-\"*40+f\" npc_id '{npc_id}' info \"+\"-\"*40)\n",
        "single_npc = npc[npc_id]\n",
        "for key in single_npc:\n",
        "    print(f\"{key}: {single_npc[key]}\")"
      ]
    }
  ],
  "metadata": {
    "colab": {
      "collapsed_sections": [],
      "provenance": []
    },
    "kernelspec": {
      "display_name": "Python 3.9.0 ('imitation')",
      "language": "python",
      "name": "python3"
    },
    "language_info": {
      "codemirror_mode": {
        "name": "ipython",
        "version": 3
      },
      "file_extension": ".py",
      "mimetype": "text/x-python",
      "name": "python",
      "nbconvert_exporter": "python",
      "pygments_lexer": "ipython3",
      "version": "3.9.0"
    },
    "vscode": {
      "interpreter": {
        "hash": "7ee4b11ba12344568a26f8b2ba0ee4b5891c4f6a9a17ecb9142b656fd2234b6c"
      }
    }
  },
  "nbformat": 4,
  "nbformat_minor": 0
}
